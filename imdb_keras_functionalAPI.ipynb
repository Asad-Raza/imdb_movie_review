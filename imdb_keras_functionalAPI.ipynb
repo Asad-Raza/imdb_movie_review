{
 "cells": [
  {
   "cell_type": "code",
   "execution_count": 1,
   "metadata": {},
   "outputs": [
    {
     "name": "stderr",
     "output_type": "stream",
     "text": [
      "C:\\Users\\Bipin Krishnan P\\Anaconda3\\lib\\site-packages\\h5py\\__init__.py:36: FutureWarning: Conversion of the second argument of issubdtype from `float` to `np.floating` is deprecated. In future, it will be treated as `np.float64 == np.dtype(float).type`.\n",
      "  from ._conv import register_converters as _register_converters\n"
     ]
    }
   ],
   "source": [
    "from tensorflow.keras import datasets\n",
    "from tensorflow.keras import Model, Input\n",
    "from tensorflow.keras import layers\n",
    "\n",
    "import numpy as np\n",
    "import matplotlib.pyplot as plt"
   ]
  },
  {
   "cell_type": "code",
   "execution_count": 2,
   "metadata": {},
   "outputs": [],
   "source": [
    "num_words = 10000\n",
    "max_len = 500\n",
    "val_split = 0.1"
   ]
  },
  {
   "cell_type": "code",
   "execution_count": 3,
   "metadata": {},
   "outputs": [],
   "source": [
    "(train_x, train_y), (test_x, test_y) = datasets.imdb.load_data(num_words=num_words, maxlen=max_len)"
   ]
  },
  {
   "cell_type": "code",
   "execution_count": 4,
   "metadata": {},
   "outputs": [],
   "source": [
    "def ohe_data(data):\n",
    "    ohe_train_row = data.shape[0]\n",
    "    ohe_train_col = num_words\n",
    "    \n",
    "    data_ohe = np.zeros((ohe_train_row, ohe_train_col))\n",
    "    \n",
    "    for i, value in enumerate(data):\n",
    "        data_ohe[i, value] = 1\n",
    "    \n",
    "    return data_ohe  "
   ]
  },
  {
   "cell_type": "code",
   "execution_count": 5,
   "metadata": {},
   "outputs": [],
   "source": [
    "train_x_ohe = ohe_data(train_x)"
   ]
  },
  {
   "cell_type": "code",
   "execution_count": 6,
   "metadata": {},
   "outputs": [],
   "source": [
    "test_x_ohe = ohe_data(test_x)"
   ]
  },
  {
   "cell_type": "code",
   "execution_count": 7,
   "metadata": {},
   "outputs": [
    {
     "data": {
      "text/plain": [
       "(25000, 10000)"
      ]
     },
     "execution_count": 7,
     "metadata": {},
     "output_type": "execute_result"
    }
   ],
   "source": [
    "train_x_ohe.shape"
   ]
  },
  {
   "cell_type": "code",
   "execution_count": 8,
   "metadata": {},
   "outputs": [],
   "source": [
    "input_tensor = Input((10000,))\n",
    "\n",
    "d1 = layers.Dense(200, activation='relu')(input_tensor)\n",
    "D1 = layers.Dropout(0.3)(d1)\n",
    "\n",
    "d2 = layers.Dense(300, activation='relu')(D1)\n",
    "D2 = layers.Dropout(0.3)(d2)\n",
    "\n",
    "d3 = layers.Dense(100, activation='relu')(D2)\n",
    "D3 = layers.Dropout(0.3)(d3)\n",
    "\n",
    "out = layers.Dense(1, activation='sigmoid')(D3)\n",
    "\n",
    "model = Model(inputs=input_tensor, outputs=out)"
   ]
  },
  {
   "cell_type": "code",
   "execution_count": 9,
   "metadata": {},
   "outputs": [],
   "source": [
    "model.compile(optimizer='rmsprop', loss='binary_crossentropy', metrics=['acc'])"
   ]
  },
  {
   "cell_type": "code",
   "execution_count": 10,
   "metadata": {},
   "outputs": [
    {
     "name": "stdout",
     "output_type": "stream",
     "text": [
      "_________________________________________________________________\n",
      "Layer (type)                 Output Shape              Param #   \n",
      "=================================================================\n",
      "input_1 (InputLayer)         (None, 10000)             0         \n",
      "_________________________________________________________________\n",
      "dense (Dense)                (None, 200)               2000200   \n",
      "_________________________________________________________________\n",
      "dropout (Dropout)            (None, 200)               0         \n",
      "_________________________________________________________________\n",
      "dense_1 (Dense)              (None, 300)               60300     \n",
      "_________________________________________________________________\n",
      "dropout_1 (Dropout)          (None, 300)               0         \n",
      "_________________________________________________________________\n",
      "dense_2 (Dense)              (None, 100)               30100     \n",
      "_________________________________________________________________\n",
      "dropout_2 (Dropout)          (None, 100)               0         \n",
      "_________________________________________________________________\n",
      "dense_3 (Dense)              (None, 1)                 101       \n",
      "=================================================================\n",
      "Total params: 2,090,701\n",
      "Trainable params: 2,090,701\n",
      "Non-trainable params: 0\n",
      "_________________________________________________________________\n"
     ]
    }
   ],
   "source": [
    "model.summary()"
   ]
  },
  {
   "cell_type": "code",
   "execution_count": 11,
   "metadata": {
    "scrolled": false
   },
   "outputs": [
    {
     "name": "stdout",
     "output_type": "stream",
     "text": [
      "Train on 22500 samples, validate on 2500 samples\n",
      "Epoch 1/3\n",
      "22500/22500 [==============================] - 248s 11ms/step - loss: 0.3463 - acc: 0.8550 - val_loss: 0.2734 - val_acc: 0.8840\n",
      "Epoch 2/3\n",
      "22500/22500 [==============================] - 93s 4ms/step - loss: 0.2295 - acc: 0.9164 - val_loss: 0.2942 - val_acc: 0.8848\n",
      "Epoch 3/3\n",
      "22500/22500 [==============================] - 45s 2ms/step - loss: 0.1893 - acc: 0.9346 - val_loss: 0.3088 - val_acc: 0.8876\n"
     ]
    },
    {
     "data": {
      "text/plain": [
       "<tensorflow.python.keras.callbacks.History at 0xf2eba39ba8>"
      ]
     },
     "execution_count": 11,
     "metadata": {},
     "output_type": "execute_result"
    }
   ],
   "source": [
    "model.fit(train_x_ohe, train_y, validation_split=val_split, shuffle=True, epochs=3)"
   ]
  },
  {
   "cell_type": "code",
   "execution_count": 12,
   "metadata": {
    "scrolled": false
   },
   "outputs": [
    {
     "name": "stdout",
     "output_type": "stream",
     "text": [
      "20947/20947 [==============================] - 469s 22ms/step\n"
     ]
    },
    {
     "data": {
      "text/plain": [
       "[0.3334686711701583, 0.8859025158990043]"
      ]
     },
     "execution_count": 12,
     "metadata": {},
     "output_type": "execute_result"
    }
   ],
   "source": [
    "model.evaluate(test_x_ohe, test_y)"
   ]
  },
  {
   "cell_type": "code",
   "execution_count": 15,
   "metadata": {},
   "outputs": [
    {
     "data": {
      "text/plain": [
       "{'val_loss': [0.2733580232620239, 0.29415548692643645, 0.30877976982593536],\n",
       " 'val_acc': [0.884, 0.8848, 0.8876],\n",
       " 'loss': [0.34625487881236605, 0.2295208215713501, 0.18927903700244303],\n",
       " 'acc': [0.8549777777777777, 0.9163555555555556, 0.9345777777777777]}"
      ]
     },
     "execution_count": 15,
     "metadata": {},
     "output_type": "execute_result"
    }
   ],
   "source": [
    "model.history.history"
   ]
  },
  {
   "cell_type": "code",
   "execution_count": 13,
   "metadata": {},
   "outputs": [],
   "source": [
    "def prediction_custom(review):\n",
    "    review = [review]\n",
    "    idx = []\n",
    "    review_ohe = np.zeros((1, 10000))\n",
    "    \n",
    "    for data in review:\n",
    "        token = data.split()\n",
    "        for word in token:\n",
    "            if word.casefold() in datasets.imdb.get_word_index():\n",
    "                idx.append(datasets.imdb.get_word_index()[word.casefold()])\n",
    "            else:\n",
    "                print(\"[-] The word {} is not in the word index dictionary\\n    This may effect the prediction\".format(word))\n",
    "                \n",
    "    for val in idx:\n",
    "        review_ohe[0, val] = 1\n",
    "        \n",
    "    pred = model.predict(review_ohe).round()\n",
    "    \n",
    "    if pred[0][0] == 1:\n",
    "        print('Good review')\n",
    "    else:\n",
    "        print('Bad review')\n",
    "        \n",
    "    return pred\n",
    "    "
   ]
  },
  {
   "cell_type": "code",
   "execution_count": 14,
   "metadata": {},
   "outputs": [
    {
     "name": "stdout",
     "output_type": "stream",
     "text": [
      "Good review\n"
     ]
    },
    {
     "data": {
      "text/plain": [
       "array([[1.]], dtype=float32)"
      ]
     },
     "execution_count": 14,
     "metadata": {},
     "output_type": "execute_result"
    }
   ],
   "source": [
    "rev = 'This is wonderful movie that i had ever watched'\n",
    "pred_val = prediction_custom(rev)\n",
    "pred_val"
   ]
  }
 ],
 "metadata": {
  "kernelspec": {
   "display_name": "Python 3",
   "language": "python",
   "name": "python3"
  },
  "language_info": {
   "codemirror_mode": {
    "name": "ipython",
    "version": 3
   },
   "file_extension": ".py",
   "mimetype": "text/x-python",
   "name": "python",
   "nbconvert_exporter": "python",
   "pygments_lexer": "ipython3",
   "version": "3.6.5"
  }
 },
 "nbformat": 4,
 "nbformat_minor": 2
}
