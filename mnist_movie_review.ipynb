{
 "cells": [
  {
   "cell_type": "code",
   "execution_count": 1,
   "metadata": {},
   "outputs": [
    {
     "name": "stderr",
     "output_type": "stream",
     "text": [
      "C:\\Users\\Bipin Krishnan P\\Anaconda3\\lib\\site-packages\\h5py\\__init__.py:36: FutureWarning: Conversion of the second argument of issubdtype from `float` to `np.floating` is deprecated. In future, it will be treated as `np.float64 == np.dtype(float).type`.\n",
      "  from ._conv import register_converters as _register_converters\n"
     ]
    }
   ],
   "source": [
    "import numpy as np\n",
    "import tensorflow as tf\n",
    "from tensorflow.keras import datasets, utils\n",
    "import matplotlib.pyplot as plt"
   ]
  },
  {
   "cell_type": "code",
   "execution_count": 2,
   "metadata": {},
   "outputs": [],
   "source": [
    "num_words = 10000"
   ]
  },
  {
   "cell_type": "code",
   "execution_count": 3,
   "metadata": {},
   "outputs": [],
   "source": [
    "(train_x, train_y), (test_x, test_y) = datasets.imdb.load_data(maxlen=500, num_words=num_words)"
   ]
  },
  {
   "cell_type": "code",
   "execution_count": 4,
   "metadata": {},
   "outputs": [
    {
     "data": {
      "text/plain": [
       "(25000,)"
      ]
     },
     "execution_count": 4,
     "metadata": {},
     "output_type": "execute_result"
    }
   ],
   "source": [
    "train_x.shape"
   ]
  },
  {
   "cell_type": "code",
   "execution_count": 5,
   "metadata": {},
   "outputs": [],
   "source": [
    "def ohe_reviews(data, num_words=num_words):\n",
    "    '''\n",
    "    converts all data to 1 at the respective \n",
    "    position within the total possible num_words \n",
    "    Example:\n",
    "      one hot encoding for [2, 4, 6, 9] is \n",
    "             [0, 1, 0, 1, 0, 1, 0, 0, 1, 0] \n",
    "             \n",
    "                 where num_words=10\n",
    "        \n",
    "    '''\n",
    "    data_ohe = np.zeros((len(data), num_words))\n",
    "    for i, sequence in enumerate(data):\n",
    "        data_ohe[i, sequence] = 1\n",
    "        \n",
    "    return data_ohe "
   ]
  },
  {
   "cell_type": "code",
   "execution_count": 6,
   "metadata": {},
   "outputs": [],
   "source": [
    "train_x_ohe = ohe_reviews(train_x)\n",
    "test_x_ohe = ohe_reviews(test_x)"
   ]
  },
  {
   "cell_type": "code",
   "execution_count": 7,
   "metadata": {
    "scrolled": true
   },
   "outputs": [
    {
     "name": "stdout",
     "output_type": "stream",
     "text": [
      "[1. 1. 0. 1. 0. 0. 1. 1. 0. 0. 0. 1. 1. 1. 0. 0. 1. 0. 0. 0. 0. 1. 0. 0.\n",
      " 0. 0. 0. 1. 0. 0. 0. 0. 0. 1. 0. 0. 0. 1. 0. 0. 0. 0. 0. 0. 0. 0. 0. 1.\n",
      " 0.]\n",
      "[1. 1. 0. 1. 1. 1. 1. 1. 1. 1. 1. 1. 1. 1. 1. 0. 1. 0. 0. 0. 1. 1. 1. 0.\n",
      " 0. 0. 1. 1. 1. 1. 1. 1. 1. 0. 1. 0. 0. 0. 0. 0. 0. 1. 1. 1. 0. 0. 1. 0.\n",
      " 1.]\n"
     ]
    }
   ],
   "source": [
    "print(test_x_ohe[1][1:50])\n",
    "print(test_x_ohe[0][1:50])"
   ]
  },
  {
   "cell_type": "code",
   "execution_count": 8,
   "metadata": {},
   "outputs": [],
   "source": [
    "model = tf.keras.Sequential()\n",
    "model.add(tf.keras.layers.Dense(300, activation='relu'))\n",
    "model.add(tf.keras.layers.Dropout(0.3))\n",
    "model.add(tf.keras.layers.Dense(400, activation='relu'))\n",
    "model.add(tf.keras.layers.Dropout(0.3))\n",
    "model.add(tf.keras.layers.Dense(1, activation='sigmoid'))"
   ]
  },
  {
   "cell_type": "code",
   "execution_count": 9,
   "metadata": {},
   "outputs": [],
   "source": [
    "model.compile(loss='binary_crossentropy', optimizer='rmsprop', metrics=['acc'])"
   ]
  },
  {
   "cell_type": "code",
   "execution_count": 10,
   "metadata": {
    "scrolled": true
   },
   "outputs": [
    {
     "name": "stdout",
     "output_type": "stream",
     "text": [
      "Epoch 1/5\n",
      "25000/25000 [==============================] - 287s 11ms/step - loss: 0.3338 - acc: 0.8644\n",
      "Epoch 2/5\n",
      "25000/25000 [==============================] - 159s 6ms/step - loss: 0.2273 - acc: 0.9155\n",
      "Epoch 3/5\n",
      "25000/25000 [==============================] - 67s 3ms/step - loss: 0.1898 - acc: 0.9316\n",
      "Epoch 4/5\n",
      "25000/25000 [==============================] - 68s 3ms/step - loss: 0.1654 - acc: 0.9448\n",
      "Epoch 5/5\n",
      "25000/25000 [==============================] - 67s 3ms/step - loss: 0.1390 - acc: 0.9557\n"
     ]
    },
    {
     "data": {
      "text/plain": [
       "<tensorflow.python.keras.callbacks.History at 0x15d7254da0>"
      ]
     },
     "execution_count": 10,
     "metadata": {},
     "output_type": "execute_result"
    }
   ],
   "source": [
    "model.fit(train_x_ohe, train_y, epochs=5)"
   ]
  },
  {
   "cell_type": "code",
   "execution_count": 11,
   "metadata": {},
   "outputs": [
    {
     "name": "stdout",
     "output_type": "stream",
     "text": [
      "_________________________________________________________________\n",
      "Layer (type)                 Output Shape              Param #   \n",
      "=================================================================\n",
      "dense (Dense)                (None, 300)               3000300   \n",
      "_________________________________________________________________\n",
      "dropout (Dropout)            (None, 300)               0         \n",
      "_________________________________________________________________\n",
      "dense_1 (Dense)              (None, 400)               120400    \n",
      "_________________________________________________________________\n",
      "dropout_1 (Dropout)          (None, 400)               0         \n",
      "_________________________________________________________________\n",
      "dense_2 (Dense)              (None, 1)                 401       \n",
      "=================================================================\n",
      "Total params: 3,121,101\n",
      "Trainable params: 3,121,101\n",
      "Non-trainable params: 0\n",
      "_________________________________________________________________\n"
     ]
    }
   ],
   "source": [
    "model.summary()"
   ]
  },
  {
   "cell_type": "code",
   "execution_count": 12,
   "metadata": {},
   "outputs": [
    {
     "data": {
      "text/plain": [
       "{'loss': [0.3337988516139984,\n",
       "  0.22733565807819367,\n",
       "  0.18979974027633667,\n",
       "  0.1654308225697279,\n",
       "  0.13897041129142046],\n",
       " 'acc': [0.86436, 0.91552, 0.93156, 0.9448, 0.95572]}"
      ]
     },
     "execution_count": 12,
     "metadata": {},
     "output_type": "execute_result"
    }
   ],
   "source": [
    "model.history.history"
   ]
  },
  {
   "cell_type": "code",
   "execution_count": 13,
   "metadata": {},
   "outputs": [],
   "source": [
    "losses = model.history.history['loss']\n",
    "acc = model.history.history['acc']\n",
    "\n",
    "epoch = []\n",
    "for i in range(5):\n",
    "    epoch.append(i+1)"
   ]
  },
  {
   "cell_type": "code",
   "execution_count": 16,
   "metadata": {},
   "outputs": [
    {
     "data": {
      "image/png": "[encoded data removed]",
      "text/plain": [
       "<Figure size 432x288 with 1 Axes>"
      ]
     },
     "metadata": {},
     "output_type": "display_data"
    }
   ],
   "source": [
    "plt.plot(epoch, losses)\n",
    "plt.xlabel('Epoch')\n",
    "plt.ylabel('Loss')\n",
    "plt.show()"
   ]
  },
  {
   "cell_type": "code",
   "execution_count": 17,
   "metadata": {},
   "outputs": [
    {
     "data": {
      "image/png": "[encoded data removed]",
      "text/plain": [
       "<Figure size 432x288 with 1 Axes>"
      ]
     },
     "metadata": {},
     "output_type": "display_data"
    }
   ],
   "source": [
    "plt.plot(epoch, acc)\n",
    "plt.xlabel('Epoch')\n",
    "plt.ylabel('Accuracy')\n",
    "plt.show()"
   ]
  },
  {
   "cell_type": "code",
   "execution_count": 18,
   "metadata": {},
   "outputs": [
    {
     "name": "stdout",
     "output_type": "stream",
     "text": [
      "20947/20947 [==============================] - 208s 10ms/step\n"
     ]
    },
    {
     "data": {
      "text/plain": [
       "[0.47401438465879636, 0.8815104788531265]"
      ]
     },
     "execution_count": 18,
     "metadata": {},
     "output_type": "execute_result"
    }
   ],
   "source": [
    "model.evaluate(test_x_ohe, test_y)"
   ]
  },
  {
   "cell_type": "code",
   "execution_count": 19,
   "metadata": {},
   "outputs": [],
   "source": [
    "pred = model.predict(test_x_ohe)"
   ]
  },
  {
   "cell_type": "code",
   "execution_count": 21,
   "metadata": {},
   "outputs": [
    {
     "data": {
      "text/plain": [
       "array([[5.5184208e-02],\n",
       "       [1.4981570e-02],\n",
       "       [9.7005063e-01],\n",
       "       [9.9992406e-01],\n",
       "       [9.9725598e-01],\n",
       "       [9.9999392e-01],\n",
       "       [1.0000000e+00],\n",
       "       [5.0174943e-03],\n",
       "       [9.8852557e-01],\n",
       "       [7.2613835e-02],\n",
       "       [9.9992692e-01],\n",
       "       [9.9999189e-01],\n",
       "       [1.0416382e-22],\n",
       "       [9.9729830e-01],\n",
       "       [7.7727574e-01],\n",
       "       [9.9999559e-01],\n",
       "       [1.7808832e-01],\n",
       "       [4.9468629e-25],\n",
       "       [1.8060706e-04],\n",
       "       [9.7173655e-01]], dtype=float32)"
      ]
     },
     "execution_count": 21,
     "metadata": {},
     "output_type": "execute_result"
    }
   ],
   "source": [
    "pred[0:20]"
   ]
  },
  {
   "cell_type": "code",
   "execution_count": 28,
   "metadata": {},
   "outputs": [],
   "source": [
    "def prediction(data):\n",
    "    row = data.shape[1]\n",
    "    col = data.shape[0]\n",
    "    return np.reshape(np.round(data), (row,col))"
   ]
  },
  {
   "cell_type": "code",
   "execution_count": 29,
   "metadata": {},
   "outputs": [
    {
     "name": "stdout",
     "output_type": "stream",
     "text": [
      "Predicted output [[0. 0. 1. 1. 1. 1. 1. 0. 1. 0.]]\n",
      "\n",
      "Original output [0 0 1 1 1 1 1 0 1 0]\n"
     ]
    }
   ],
   "source": [
    "print(\"Predicted output\", prediction(pred[0:10]))\n",
    "print(\"\\nOriginal output\", test_y[0:10])"
   ]
  },
  {
   "cell_type": "code",
   "execution_count": null,
   "metadata": {},
   "outputs": [],
   "source": []
  }
 ],
 "metadata": {
  "kernelspec": {
   "display_name": "Python 3",
   "language": "python",
   "name": "python3"
  },
  "language_info": {
   "codemirror_mode": {
    "name": "ipython",
    "version": 3
   },
   "file_extension": ".py",
   "mimetype": "text/x-python",
   "name": "python",
   "nbconvert_exporter": "python",
   "pygments_lexer": "ipython3",
   "version": "3.6.5"
  }
 },
 "nbformat": 4,
 "nbformat_minor": 2
}
